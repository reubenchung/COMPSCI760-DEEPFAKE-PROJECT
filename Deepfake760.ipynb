{
 "cells": [
  {
   "cell_type": "markdown",
   "id": "33c623c0-96de-4caf-a729-626c2b5c7957",
   "metadata": {},
   "source": [
    "# DEEP FAKE COMPSCI 760"
   ]
  },
  {
   "cell_type": "markdown",
   "id": "7ddefa0a-a3ff-45cd-bc72-8abbbf447161",
   "metadata": {},
   "source": [
    "# Datasets"
   ]
  },
  {
   "cell_type": "code",
   "execution_count": 2,
   "id": "635c58c2",
   "metadata": {},
   "outputs": [
    {
     "data": {
      "text/plain": [
       "[]"
      ]
     },
     "execution_count": 2,
     "metadata": {},
     "output_type": "execute_result"
    }
   ],
   "source": [
    "import tensorflow as tf\n",
    "tf.config.list_physical_devices('GPU')"
   ]
  },
  {
   "cell_type": "code",
   "execution_count": 3,
   "id": "5db38b2d-175f-4198-a845-97135ff32405",
   "metadata": {},
   "outputs": [],
   "source": [
    "import zipfile\n",
    "from PIL import Image\n",
    "import io\n",
    "import matplotlib.pyplot as plt\n",
    "from glob import glob"
   ]
  },
  {
   "cell_type": "code",
   "execution_count": 4,
   "id": "efba583e",
   "metadata": {},
   "outputs": [],
   "source": [
    "#Generate CLAHE images into separate directories\n",
    "\n",
    "import cv2\n",
    "import os\n",
    "clipLimit = 7.0\n",
    "tileGridSize = (15,15)\n",
    "\n",
    "\n",
    "def apply_clahe(input_path, output_path):\n",
    "    image = cv2.imread(input_path)\n",
    "    lab = cv2.cvtColor(image, cv2.COLOR_BGR2LAB)\n",
    "    l, a, b = cv2.split(lab)\n",
    "    clahe = cv2.createCLAHE(clipLimit=clipLimit, tileGridSize=tileGridSize)\n",
    "    l_clahe = clahe.apply(l)\n",
    "    lab_clahe = cv2.merge((l_clahe, a, b))\n",
    "    image_clahe = cv2.cvtColor(lab_clahe, cv2.COLOR_LAB2BGR)\n",
    "    cv2.imwrite(output_path, image_clahe)\n",
    "\n",
    "    \n",
    "raw_dir = \"./low-quality/fake\"\n",
    "output_dir = \"./low-quality-clahe/fake\"\n",
    "def apply_clahe_dir(raw_dir, output_dir):\n",
    "    os.makedirs(output_dir, exist_ok=True)\n",
    "    for currentDir in list(glob(raw_dir + \"/*.jpg\")):\n",
    "        fileName = currentDir.split(\"\\\\\")[-1]\n",
    "        apply_clahe(currentDir, output_dir + \"/\" + fileName)\n",
    "        \n",
    "apply_clahe_dir(\"./low-quality/fake\", \"./low-quality-clahe/fake\")\n",
    "apply_clahe_dir(\"./high-quality/fake\", \"./high-quality-clahe/fake\")\n",
    "apply_clahe_dir(\"./low-quality/real\", \"./low-quality-clahe/real\")\n",
    "apply_clahe_dir(\"./high-quality/real\", \"./high-quality-clahe/real\")\n",
    "    \n",
    "    \n"
   ]
  },
  {
   "cell_type": "code",
   "execution_count": 11,
   "id": "fdc689e0",
   "metadata": {},
   "outputs": [],
   "source": [
    "import tensorflow as tf\n",
    "import matplotlib.pyplot as plt\n",
    "import numpy as np\n",
    "import PIL\n",
    "\n",
    "from tensorflow import keras\n",
    "from tensorflow.keras import layers\n",
    "from tensorflow.keras.models import Sequential\n",
    "\n",
    "batch_size = 32\n",
    "img_height = 180\n",
    "img_width = 180\n",
    "\n",
    "\n",
    "def get_model(data_dir):\n",
    "\n",
    "    train_ds = tf.keras.utils.image_dataset_from_directory(\n",
    "      data_dir,\n",
    "      validation_split=0.2,\n",
    "      subset=\"training\",\n",
    "      seed=123,\n",
    "      image_size=(img_height, img_width),\n",
    "      batch_size=batch_size)\n",
    "\n",
    "    val_ds = tf.keras.utils.image_dataset_from_directory(\n",
    "      data_dir,\n",
    "      validation_split=0.2,\n",
    "      subset=\"validation\",\n",
    "      seed=123,\n",
    "      image_size=(img_height, img_width),\n",
    "      batch_size=batch_size)\n",
    "    class_names = train_ds.class_names\n",
    "    num_classes = len(class_names)\n",
    "\n",
    "    model = Sequential([\n",
    "      layers.Rescaling(1./255, input_shape=(img_height, img_width, 3)),\n",
    "      layers.Conv2D(16, 3, padding='same', activation='relu'),\n",
    "      layers.MaxPooling2D(),\n",
    "      layers.Conv2D(32, 3, padding='same', activation='relu'),\n",
    "      layers.MaxPooling2D(),\n",
    "      layers.Conv2D(64, 3, padding='same', activation='relu'),\n",
    "      layers.MaxPooling2D(),\n",
    "      layers.Flatten(),\n",
    "      layers.Dense(128, activation='relu'),\n",
    "      layers.Dense(num_classes)\n",
    "    ])\n",
    "\n",
    "    model.compile(optimizer='adam',\n",
    "                  loss=tf.keras.losses.SparseCategoricalCrossentropy(from_logits=True),\n",
    "                  metrics=['accuracy'])\n",
    "    return model,train_ds,val_ds\n",
    "epochs=10\n",
    "def run_model(model):\n",
    "    \n",
    "    history = model.fit(\n",
    "      train_ds,\n",
    "      validation_data=val_ds,\n",
    "      epochs=epochs\n",
    "    )\n",
    "    return history\n",
    "\n",
    "\n",
    "\n"
   ]
  },
  {
   "cell_type": "code",
   "execution_count": 12,
   "id": "276c664e",
   "metadata": {},
   "outputs": [],
   "source": [
    "\n",
    "def test_model(data_dir):\n",
    "    model,train_ds,val_ds = get_model(data_dir)\n",
    "    model.summary()\n",
    "    history = run_model(model)\n",
    "\n",
    "    acc = history.history['accuracy']\n",
    "    val_acc = history.history['val_accuracy']\n",
    "\n",
    "    loss = history.history['loss']\n",
    "    val_loss = history.history['val_loss']\n",
    "\n",
    "    epochs_range = range(epochs)\n",
    "\n",
    "    plt.figure(figsize=(8, 8))\n",
    "    plt.subplot(1, 2, 1)\n",
    "    plt.plot(epochs_range, acc, label='Training Accuracy')\n",
    "    plt.plot(epochs_range, val_acc, label='Validation Accuracy')\n",
    "    plt.legend(loc='lower right')\n",
    "    plt.title('Training and Validation Accuracy')\n",
    "\n",
    "    plt.subplot(1, 2, 2)\n",
    "    plt.plot(epochs_range, loss, label='Training Loss')\n",
    "    plt.plot(epochs_range, val_loss, label='Validation Loss')\n",
    "    plt.legend(loc='upper right')\n",
    "    plt.title('Training and Validation Loss')\n",
    "    plt.show()"
   ]
  },
  {
   "cell_type": "code",
   "execution_count": 13,
   "id": "65c56257",
   "metadata": {},
   "outputs": [
    {
     "name": "stdout",
     "output_type": "stream",
     "text": [
      "Found 1727 files belonging to 2 classes.\n",
      "Using 1382 files for training.\n",
      "Found 1727 files belonging to 2 classes.\n",
      "Using 345 files for validation.\n",
      "Model: \"sequential_1\"\n",
      "_________________________________________________________________\n",
      " Layer (type)                Output Shape              Param #   \n",
      "=================================================================\n",
      " rescaling_1 (Rescaling)     (None, 180, 180, 3)       0         \n",
      "                                                                 \n",
      " conv2d_3 (Conv2D)           (None, 180, 180, 16)      448       \n",
      "                                                                 \n",
      " max_pooling2d_3 (MaxPoolin  (None, 90, 90, 16)        0         \n",
      " g2D)                                                            \n",
      "                                                                 \n",
      " conv2d_4 (Conv2D)           (None, 90, 90, 32)        4640      \n",
      "                                                                 \n",
      " max_pooling2d_4 (MaxPoolin  (None, 45, 45, 32)        0         \n",
      " g2D)                                                            \n",
      "                                                                 \n",
      " conv2d_5 (Conv2D)           (None, 45, 45, 64)        18496     \n",
      "                                                                 \n",
      " max_pooling2d_5 (MaxPoolin  (None, 22, 22, 64)        0         \n",
      " g2D)                                                            \n",
      "                                                                 \n",
      " flatten_1 (Flatten)         (None, 30976)             0         \n",
      "                                                                 \n",
      " dense_2 (Dense)             (None, 128)               3965056   \n",
      "                                                                 \n",
      " dense_3 (Dense)             (None, 2)                 258       \n",
      "                                                                 \n",
      "=================================================================\n",
      "Total params: 3988898 (15.22 MB)\n",
      "Trainable params: 3988898 (15.22 MB)\n",
      "Non-trainable params: 0 (0.00 Byte)\n",
      "_________________________________________________________________\n"
     ]
    },
    {
     "ename": "NameError",
     "evalue": "name 'train_ds' is not defined",
     "output_type": "error",
     "traceback": [
      "\u001b[1;31m---------------------------------------------------------------------------\u001b[0m",
      "\u001b[1;31mNameError\u001b[0m                                 Traceback (most recent call last)",
      "Input \u001b[1;32mIn [13]\u001b[0m, in \u001b[0;36m<cell line: 1>\u001b[1;34m()\u001b[0m\n\u001b[1;32m----> 1\u001b[0m \u001b[43mtest_model\u001b[49m\u001b[43m(\u001b[49m\u001b[38;5;124;43m\"\u001b[39;49m\u001b[38;5;124;43m./low-quality-clahe\u001b[39;49m\u001b[38;5;124;43m\"\u001b[39;49m\u001b[43m)\u001b[49m\n",
      "Input \u001b[1;32mIn [12]\u001b[0m, in \u001b[0;36mtest_model\u001b[1;34m(data_dir)\u001b[0m\n\u001b[0;32m      2\u001b[0m model,train_ds,val_ds \u001b[38;5;241m=\u001b[39m get_model(data_dir)\n\u001b[0;32m      3\u001b[0m model\u001b[38;5;241m.\u001b[39msummary()\n\u001b[1;32m----> 4\u001b[0m history \u001b[38;5;241m=\u001b[39m \u001b[43mrun_model\u001b[49m\u001b[43m(\u001b[49m\u001b[43mmodel\u001b[49m\u001b[43m)\u001b[49m\n\u001b[0;32m      6\u001b[0m acc \u001b[38;5;241m=\u001b[39m history\u001b[38;5;241m.\u001b[39mhistory[\u001b[38;5;124m'\u001b[39m\u001b[38;5;124maccuracy\u001b[39m\u001b[38;5;124m'\u001b[39m]\n\u001b[0;32m      7\u001b[0m val_acc \u001b[38;5;241m=\u001b[39m history\u001b[38;5;241m.\u001b[39mhistory[\u001b[38;5;124m'\u001b[39m\u001b[38;5;124mval_accuracy\u001b[39m\u001b[38;5;124m'\u001b[39m]\n",
      "Input \u001b[1;32mIn [11]\u001b[0m, in \u001b[0;36mrun_model\u001b[1;34m(model)\u001b[0m\n\u001b[0;32m     53\u001b[0m \u001b[38;5;28;01mdef\u001b[39;00m \u001b[38;5;21mrun_model\u001b[39m(model):\n\u001b[0;32m     55\u001b[0m     history \u001b[38;5;241m=\u001b[39m model\u001b[38;5;241m.\u001b[39mfit(\n\u001b[1;32m---> 56\u001b[0m       \u001b[43mtrain_ds\u001b[49m,\n\u001b[0;32m     57\u001b[0m       validation_data\u001b[38;5;241m=\u001b[39mval_ds,\n\u001b[0;32m     58\u001b[0m       epochs\u001b[38;5;241m=\u001b[39mepochs\n\u001b[0;32m     59\u001b[0m     )\n\u001b[0;32m     60\u001b[0m     \u001b[38;5;28;01mreturn\u001b[39;00m history\n",
      "\u001b[1;31mNameError\u001b[0m: name 'train_ds' is not defined"
     ]
    }
   ],
   "source": [
    "test_model(\"./low-quality-clahe\")"
   ]
  },
  {
   "cell_type": "code",
   "execution_count": 75,
   "id": "f28211db",
   "metadata": {},
   "outputs": [
    {
     "name": "stdout",
     "output_type": "stream",
     "text": [
      "Found 1727 files belonging to 2 classes.\n",
      "Using 1382 files for training.\n",
      "Found 1727 files belonging to 2 classes.\n",
      "Using 345 files for validation.\n",
      "Model: \"sequential_9\"\n",
      "_________________________________________________________________\n",
      " Layer (type)                Output Shape              Param #   \n",
      "=================================================================\n",
      " rescaling_9 (Rescaling)     (None, 180, 180, 3)       0         \n",
      "                                                                 \n",
      " conv2d_27 (Conv2D)          (None, 180, 180, 16)      448       \n",
      "                                                                 \n",
      " max_pooling2d_27 (MaxPooli  (None, 90, 90, 16)        0         \n",
      " ng2D)                                                           \n",
      "                                                                 \n",
      " conv2d_28 (Conv2D)          (None, 90, 90, 32)        4640      \n",
      "                                                                 \n",
      " max_pooling2d_28 (MaxPooli  (None, 45, 45, 32)        0         \n",
      " ng2D)                                                           \n",
      "                                                                 \n",
      " conv2d_29 (Conv2D)          (None, 45, 45, 64)        18496     \n",
      "                                                                 \n",
      " max_pooling2d_29 (MaxPooli  (None, 22, 22, 64)        0         \n",
      " ng2D)                                                           \n",
      "                                                                 \n",
      " flatten_9 (Flatten)         (None, 30976)             0         \n",
      "                                                                 \n",
      " dense_18 (Dense)            (None, 128)               3965056   \n",
      "                                                                 \n",
      " dense_19 (Dense)            (None, 2)                 258       \n",
      "                                                                 \n",
      "=================================================================\n",
      "Total params: 3988898 (15.22 MB)\n",
      "Trainable params: 3988898 (15.22 MB)\n",
      "Non-trainable params: 0 (0.00 Byte)\n",
      "_________________________________________________________________\n",
      "Epoch 1/10\n",
      "44/44 [==============================] - 22s 477ms/step - loss: 0.7867 - accuracy: 0.4870 - val_loss: 0.6924 - val_accuracy: 0.4928\n",
      "Epoch 2/10\n",
      "44/44 [==============================] - 21s 479ms/step - loss: 0.6899 - accuracy: 0.5384 - val_loss: 0.6792 - val_accuracy: 0.5478\n",
      "Epoch 3/10\n",
      "44/44 [==============================] - 22s 488ms/step - loss: 0.6472 - accuracy: 0.6541 - val_loss: 0.6065 - val_accuracy: 0.6667\n",
      "Epoch 4/10\n",
      "44/44 [==============================] - 21s 473ms/step - loss: 0.5185 - accuracy: 0.7547 - val_loss: 0.6351 - val_accuracy: 0.6493\n",
      "Epoch 5/10\n",
      "44/44 [==============================] - 21s 486ms/step - loss: 0.4429 - accuracy: 0.8032 - val_loss: 0.5391 - val_accuracy: 0.7333\n",
      "Epoch 6/10\n",
      "44/44 [==============================] - 22s 490ms/step - loss: 0.3362 - accuracy: 0.8553 - val_loss: 0.6876 - val_accuracy: 0.7507\n",
      "Epoch 7/10\n",
      "44/44 [==============================] - 21s 472ms/step - loss: 0.2694 - accuracy: 0.8878 - val_loss: 0.6571 - val_accuracy: 0.7768\n",
      "Epoch 8/10\n",
      "44/44 [==============================] - 21s 484ms/step - loss: 0.1991 - accuracy: 0.9146 - val_loss: 0.7858 - val_accuracy: 0.7246\n",
      "Epoch 9/10\n",
      "44/44 [==============================] - 22s 489ms/step - loss: 0.1684 - accuracy: 0.9334 - val_loss: 0.8033 - val_accuracy: 0.7420\n",
      "Epoch 10/10\n",
      "44/44 [==============================] - 21s 467ms/step - loss: 0.0936 - accuracy: 0.9689 - val_loss: 1.1472 - val_accuracy: 0.6986\n"
     ]
    },
    {
     "data": {
      "image/png": "[encoded data removed]",
      "text/plain": [
       "<Figure size 576x576 with 2 Axes>"
      ]
     },
     "metadata": {
      "needs_background": "light"
     },
     "output_type": "display_data"
    }
   ],
   "source": [
    "test_model(\"./low-quality\")"
   ]
  }
 ],
 "metadata": {
  "kernelspec": {
   "display_name": "Python 3 (ipykernel)",
   "language": "python",
   "name": "python3"
  },
  "language_info": {
   "codemirror_mode": {
    "name": "ipython",
    "version": 3
   },
   "file_extension": ".py",
   "mimetype": "text/x-python",
   "name": "python",
   "nbconvert_exporter": "python",
   "pygments_lexer": "ipython3",
   "version": "3.9.12"
  }
 },
 "nbformat": 4,
 "nbformat_minor": 5
}
